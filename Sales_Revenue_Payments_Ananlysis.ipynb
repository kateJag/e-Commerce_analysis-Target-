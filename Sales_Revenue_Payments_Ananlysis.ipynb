{
 "cells": [
  {
   "cell_type": "markdown",
   "metadata": {},
   "source": [
    "### Entyty-Relationship Diagram"
   ]
  },
  {
   "cell_type": "code",
   "execution_count": null,
   "metadata": {},
   "outputs": [],
   "source": [
    "\n",
    "\n",
    "from IPython.display import Image\n",
    "Image(filename=\"C:/Users/Acer/OneDrive/Зображення/ERD_e-Comm(target).png\")"
   ]
  },
  {
   "cell_type": "markdown",
   "metadata": {},
   "source": [
    "# **Sales & Revenue & Payments Analysis**\n",
    "\n",
    "## 1. Product Category Performance\n",
    "\n",
    "### *Which product categories have the highest profit margins?*"
   ]
  },
  {
   "cell_type": "code",
   "execution_count": null,
   "metadata": {},
   "outputs": [],
   "source": [
    "## total revenue from product prices and total shipping costs (freight_value) grouped by product categories.\n",
    "\n",
    "import mysql.connector\n",
    "import pandas as pd\n",
    "\n",
    "# Connection to MySQL\n",
    "conn = mysql.connector.connect(\n",
    "    host='localhost',\n",
    "    user='codebind',  \n",
    "    password='58623',  \n",
    "    database='mydb1'  \n",
    ")\n",
    "\n",
    "\n",
    "cursor = conn.cursor()\n",
    "\n",
    "query = '''\n",
    "SELECT \n",
    "    p.product_category_name AS category,\n",
    "    SUM(order_items.price) AS total_revenue,\n",
    "    SUM(order_items.freight_value) AS total_shipping_cost,\n",
    "    SUM(order_items.price) - SUM(order_items.freight_value) AS profit_margin,\n",
    "    (SUM(order_items.price) - SUM(order_items.freight_value)) / SUM(order_items.price) * 100 AS profit_margin_percentage\n",
    "FROM \n",
    "    order_items \n",
    "JOIN \n",
    "    products p ON order_items.product_id = p.product_id\n",
    "GROUP BY \n",
    "    p.product_category_name\n",
    "ORDER BY \n",
    "    profit_margin_percentage DESC;\n",
    "\n",
    "'''\n",
    "\n",
    "margin_df = pd.read_sql(query,conn)\n",
    "margin_df"
   ]
  },
  {
   "cell_type": "code",
   "execution_count": null,
   "metadata": {},
   "outputs": [],
   "source": [
    "#  percentiles for profit margins to set a ref line visualizing  data in Tableu\n",
    "percentile_25 = margin_df['profit_margin_percentage'].quantile(0.25)\n",
    "percentile_50 = margin_df['profit_margin_percentage'].median()\n",
    "percentile_75 = margin_df['profit_margin_percentage'].quantile(0.75)\n",
    "\n",
    "print(\"25th Percentile:\", percentile_25)\n",
    "print(\"50th Percentile (Median):\", percentile_50)\n",
    "print(\"75th Percentile:\", percentile_75)\n"
   ]
  },
  {
   "cell_type": "code",
   "execution_count": 3,
   "metadata": {},
   "outputs": [],
   "source": [
    "top_10 = margin_df.sort_values(by='profit_margin_percentage', ascending=False).head(10)\n",
    "bottom_10 = margin_df.sort_values(by='profit_margin_percentage', ascending=True).head(10)\n",
    "combined_df = pd.concat([top_10, bottom_10])\n",
    "combined_df.to_csv('combined_margin.csv', index=False)\n",
    "\n"
   ]
  },
  {
   "cell_type": "code",
   "execution_count": null,
   "metadata": {},
   "outputs": [],
   "source": [
    "from IPython.display import Image\n",
    "Image(filename=\"C:/e-Commerce (Target) Sales/assets/highest_profit_margin.png\")"
   ]
  },
  {
   "cell_type": "markdown",
   "metadata": {},
   "source": [
    "## 2. Product Revenue Contribution and Volume Analysis\n",
    "\n",
    "*WHY? TO Identify the products driving revenue and the impact of volume vs. price*\n",
    "\n",
    "*What percentage of revenue comes from the top 20% of products (Pareto Principle)?*"
   ]
  },
  {
   "cell_type": "code",
   "execution_count": null,
   "metadata": {},
   "outputs": [],
   "source": [
    "query = '''\n",
    "SELECT \n",
    "    products.product_id, \n",
    "    SUM(order_items.price) AS total_sum, \n",
    "    products.product_category_name AS category\n",
    "FROM \n",
    "    order_items\n",
    "JOIN \n",
    "    products ON order_items.product_id = products.product_id\n",
    "GROUP BY \n",
    "    products.product_id, products.product_category_name\n",
    "ORDER BY \n",
    "    total_sum DESC;\n",
    "\n",
    "'''\n",
    "\n",
    "revenue_df = pd.read_sql(query,conn)\n",
    "revenue_df"
   ]
  },
  {
   "cell_type": "code",
   "execution_count": null,
   "metadata": {},
   "outputs": [],
   "source": [
    "import pandas as pd\n",
    "import matplotlib.pyplot as plt\n",
    "\n",
    "revenue_df['cumulative_revenue'] = revenue_df['total_sum'].cumsum()\n",
    "revenue_df['cumulative_revenue_percentage'] = (revenue_df['cumulative_revenue'] / revenue_df['total_sum'].sum()) * 100\n",
    "\n",
    "# Calculate cumulative product percentage\n",
    "revenue_df['cumulative_products_percentage'] = (revenue_df.index + 1) / len(revenue_df) * 100\n",
    "\n",
    "# Find the percentage of products that contribute to 80% revenue\n",
    "top_80_percent = revenue_df[revenue_df['cumulative_revenue_percentage'] <= 80]\n",
    "\n",
    "print(f\"Top 20% Products Contribution to Total Revenue: {len(top_80_percent)} / {len(revenue_df)}\")\n"
   ]
  },
  {
   "cell_type": "code",
   "execution_count": null,
   "metadata": {},
   "outputs": [],
   "source": [
    "# Export DataFrame to a CSV file\n",
    "revenue_df.to_csv('cumulative_revenue_data.csv', index=False)\n",
    "Image(filename=\"C:/e-Commerce (Target) Sales/assets/pareto.png\")\n"
   ]
  },
  {
   "cell_type": "markdown",
   "metadata": {},
   "source": [
    "### *Which products generate high revenue but have low order volume?*\n",
    "\n",
    "WHY? to find out expensive, low-order volume products that require targeted promotion"
   ]
  },
  {
   "cell_type": "code",
   "execution_count": null,
   "metadata": {},
   "outputs": [],
   "source": [
    "import pandas as pd\n",
    "\n",
    "order_items_df = pd.read_sql('SELECT product_id, price, order_id FROM order_items', conn)\n",
    "products_df = pd.read_sql('SELECT product_id, product_category_name FROM products', conn)\n",
    "merged_df = order_items_df.merge(products_df, on='product_id')\n",
    "\n",
    "\n",
    "\n"
   ]
  },
  {
   "cell_type": "code",
   "execution_count": 46,
   "metadata": {},
   "outputs": [],
   "source": [
    "product_metrics = merged_df.groupby(['product_id', 'product_category_name']).agg(\n",
    "    total_revenue=('price', 'sum'),\n",
    "    total_orders=('order_id', 'count'),\n",
    "    avg_revenue_per_order=('price', 'mean')\n",
    ").reset_index()\n",
    "\n"
   ]
  },
  {
   "cell_type": "code",
   "execution_count": 52,
   "metadata": {},
   "outputs": [],
   "source": [
    "\n",
    "\n",
    "# High order volume but low revenue per order\n",
    "frequent_low_value = product_metrics[\n",
    "    (product_metrics['total_orders'] > product_metrics['total_orders'].quantile(0.75)) &\n",
    "    (product_metrics['avg_revenue_per_order'] < product_metrics['avg_revenue_per_order'].mean())\n",
    "]\n",
    "\n"
   ]
  },
  {
   "cell_type": "code",
   "execution_count": null,
   "metadata": {},
   "outputs": [],
   "source": [
    "\n",
    "print(\"\\nFrequently Purchased Products with Low Revenue Per Order:\")\n",
    "print(frequent_low_value[['product_category_name', 'total_orders', 'avg_revenue_per_order']])"
   ]
  },
  {
   "cell_type": "code",
   "execution_count": null,
   "metadata": {},
   "outputs": [],
   "source": [
    "\n",
    "expensive_low_orders = product_metrics[\n",
    "    (product_metrics['total_revenue'] > product_metrics['total_revenue'].quantile(0.75)) &\n",
    "    (product_metrics['total_orders'] < 10)  # Products with fewer than 10 orders\n",
    "]\n",
    "\n",
    "print(\"Expensive Products with Low Orders:\")\n",
    "print(expensive_low_orders[['product_category_name', 'total_revenue', 'total_orders']])\n",
    "\n"
   ]
  },
  {
   "cell_type": "code",
   "execution_count": null,
   "metadata": {},
   "outputs": [],
   "source": [
    "import pandas as pd\n",
    "\n",
    "# Aggregate and analyze categories in expensive_low_orders\n",
    "expensive_category_analysis = expensive_low_orders.groupby('product_category_name').agg(\n",
    "    total_revenue=('total_revenue', 'sum'),\n",
    "    total_products=('product_category_name', 'count')\n",
    ").reset_index().sort_values(by='total_products', ascending=False)\n",
    "\n",
    "frequent_low_value_analysis = frequent_low_value.groupby('product_category_name').agg(\n",
    "    total_orders=('total_orders', 'sum'),\n",
    "    avg_revenue_per_order=('avg_revenue_per_order', 'mean'),\n",
    "    total_products=('product_category_name', 'count')\n",
    ").reset_index().sort_values(by='total_products', ascending=False)\n",
    "\n",
    "print(\"Dominant Categories in Expensive Products with Low Orders:\")\n",
    "print(expensive_category_analysis.head(10))\n",
    "\n",
    "print(\"\\nDominant Categories in Frequently Purchased Products with Low Revenue Per Order:\")\n",
    "print(frequent_low_value_analysis.head(10))\n"
   ]
  },
  {
   "cell_type": "code",
   "execution_count": null,
   "metadata": {},
   "outputs": [],
   "source": [
    "Image(filename=\"assets/comparison.png\")"
   ]
  },
  {
   "cell_type": "markdown",
   "metadata": {},
   "source": [
    "## 3. Payment Preferences and Revenue Contribution\n",
    "\n",
    "WHY? In order to analyze which payment methods dominate revenue and how installments contribute\n",
    "\n",
    "#*What are the most common payment methods?*"
   ]
  },
  {
   "cell_type": "code",
   "execution_count": 63,
   "metadata": {},
   "outputs": [
    {
     "name": "stderr",
     "output_type": "stream",
     "text": [
      "C:\\Users\\Acer\\AppData\\Local\\Temp\\ipykernel_3664\\364083006.py:11: UserWarning: pandas only supports SQLAlchemy connectable (engine/connection) or database string URI or sqlite3 DBAPI2 connection. Other DBAPI2 objects are not tested. Please consider using SQLAlchemy.\n",
      "  payment_df = pd.read_sql(query,conn)\n"
     ]
    },
    {
     "data": {
      "text/html": [
       "<div>\n",
       "<style scoped>\n",
       "    .dataframe tbody tr th:only-of-type {\n",
       "        vertical-align: middle;\n",
       "    }\n",
       "\n",
       "    .dataframe tbody tr th {\n",
       "        vertical-align: top;\n",
       "    }\n",
       "\n",
       "    .dataframe thead th {\n",
       "        text-align: right;\n",
       "    }\n",
       "</style>\n",
       "<table border=\"1\" class=\"dataframe\">\n",
       "  <thead>\n",
       "    <tr style=\"text-align: right;\">\n",
       "      <th></th>\n",
       "      <th>payment_type</th>\n",
       "      <th>payments_count</th>\n",
       "      <th>total_payment_value</th>\n",
       "    </tr>\n",
       "  </thead>\n",
       "  <tbody>\n",
       "    <tr>\n",
       "      <th>0</th>\n",
       "      <td>not_defined</td>\n",
       "      <td>6</td>\n",
       "      <td>0.000000e+00</td>\n",
       "    </tr>\n",
       "    <tr>\n",
       "      <th>1</th>\n",
       "      <td>debit_card</td>\n",
       "      <td>3058</td>\n",
       "      <td>4.359796e+05</td>\n",
       "    </tr>\n",
       "    <tr>\n",
       "      <th>2</th>\n",
       "      <td>voucher</td>\n",
       "      <td>11550</td>\n",
       "      <td>7.588737e+05</td>\n",
       "    </tr>\n",
       "    <tr>\n",
       "      <th>3</th>\n",
       "      <td>UPI</td>\n",
       "      <td>39568</td>\n",
       "      <td>5.738723e+06</td>\n",
       "    </tr>\n",
       "    <tr>\n",
       "      <th>4</th>\n",
       "      <td>credit_card</td>\n",
       "      <td>153590</td>\n",
       "      <td>2.508417e+07</td>\n",
       "    </tr>\n",
       "  </tbody>\n",
       "</table>\n",
       "</div>"
      ],
      "text/plain": [
       "  payment_type  payments_count  total_payment_value\n",
       "0  not_defined               6         0.000000e+00\n",
       "1   debit_card            3058         4.359796e+05\n",
       "2      voucher           11550         7.588737e+05\n",
       "3          UPI           39568         5.738723e+06\n",
       "4  credit_card          153590         2.508417e+07"
      ]
     },
     "execution_count": 63,
     "metadata": {},
     "output_type": "execute_result"
    }
   ],
   "source": [
    "query = '''\n",
    "SELECT \n",
    "    payment_type, \n",
    "    COUNT(payment_type) AS payments_count,\n",
    "    SUM(payment_value) AS total_payment_value\n",
    "FROM payments\n",
    "GROUP BY payment_type\n",
    "ORDER BY total_payment_value\n",
    "'''\n",
    "\n",
    "payment_df = pd.read_sql(query,conn)\n",
    "payment_df"
   ]
  },
  {
   "cell_type": "code",
   "execution_count": 65,
   "metadata": {},
   "outputs": [
    {
     "name": "stdout",
     "output_type": "stream",
     "text": [
      "Exported successfully to 'payment_analysis_corrected.csv'!\n"
     ]
    }
   ],
   "source": [
    "import pandas as pd\n",
    "\n",
    "# Correctly formatting and exporting the DataFrame\n",
    "export_df = payment_df[['payment_type', 'payments_count', 'total_payment_value']]\n",
    "\n",
    "# Exporting with a proper comma separator and headers\n",
    "export_df.to_csv('payment_analysis_corrected.csv', index=False)\n",
    "\n",
    "print(\"Exported successfully to 'payment_analysis_corrected.csv'!\")\n",
    "\n"
   ]
  }
 ],
 "metadata": {
  "kernelspec": {
   "display_name": "pydata-book",
   "language": "python",
   "name": "python3"
  },
  "language_info": {
   "codemirror_mode": {
    "name": "ipython",
    "version": 3
   },
   "file_extension": ".py",
   "mimetype": "text/x-python",
   "name": "python",
   "nbconvert_exporter": "python",
   "pygments_lexer": "ipython3",
   "version": "3.12.3"
  }
 },
 "nbformat": 4,
 "nbformat_minor": 2
}
